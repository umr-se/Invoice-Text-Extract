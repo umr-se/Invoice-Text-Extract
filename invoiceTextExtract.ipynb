{
  "nbformat": 4,
  "nbformat_minor": 0,
  "metadata": {
    "colab": {
      "provenance": []
    },
    "kernelspec": {
      "name": "python3",
      "display_name": "Python 3"
    },
    "language_info": {
      "name": "python"
    }
  },
  "cells": [
    {
      "cell_type": "code",
      "execution_count": null,
      "metadata": {
        "id": "cEE59N2Qc9nA",
        "colab": {
          "base_uri": "https://localhost:8080/"
        },
        "outputId": "b4c0840f-9b09-4921-e331-8a8871bd452c"
      },
      "outputs": [
        {
          "output_type": "stream",
          "name": "stdout",
          "text": [
            "Collecting paddlepaddle\n",
            "  Downloading paddlepaddle-2.6.2-cp310-cp310-manylinux1_x86_64.whl.metadata (8.6 kB)\n",
            "Requirement already satisfied: httpx in /usr/local/lib/python3.10/dist-packages (from paddlepaddle) (0.27.2)\n",
            "Requirement already satisfied: numpy>=1.13 in /usr/local/lib/python3.10/dist-packages (from paddlepaddle) (1.26.4)\n",
            "Requirement already satisfied: Pillow in /usr/local/lib/python3.10/dist-packages (from paddlepaddle) (11.0.0)\n",
            "Requirement already satisfied: decorator in /usr/local/lib/python3.10/dist-packages (from paddlepaddle) (4.4.2)\n",
            "Collecting astor (from paddlepaddle)\n",
            "  Downloading astor-0.8.1-py2.py3-none-any.whl.metadata (4.2 kB)\n",
            "Collecting opt-einsum==3.3.0 (from paddlepaddle)\n",
            "  Downloading opt_einsum-3.3.0-py3-none-any.whl.metadata (6.5 kB)\n",
            "Requirement already satisfied: protobuf>=3.20.2 in /usr/local/lib/python3.10/dist-packages (from paddlepaddle) (4.25.5)\n",
            "Requirement already satisfied: anyio in /usr/local/lib/python3.10/dist-packages (from httpx->paddlepaddle) (3.7.1)\n",
            "Requirement already satisfied: certifi in /usr/local/lib/python3.10/dist-packages (from httpx->paddlepaddle) (2024.8.30)\n",
            "Requirement already satisfied: httpcore==1.* in /usr/local/lib/python3.10/dist-packages (from httpx->paddlepaddle) (1.0.6)\n",
            "Requirement already satisfied: idna in /usr/local/lib/python3.10/dist-packages (from httpx->paddlepaddle) (3.10)\n",
            "Requirement already satisfied: sniffio in /usr/local/lib/python3.10/dist-packages (from httpx->paddlepaddle) (1.3.1)\n",
            "Requirement already satisfied: h11<0.15,>=0.13 in /usr/local/lib/python3.10/dist-packages (from httpcore==1.*->httpx->paddlepaddle) (0.14.0)\n",
            "Requirement already satisfied: exceptiongroup in /usr/local/lib/python3.10/dist-packages (from anyio->httpx->paddlepaddle) (1.2.2)\n",
            "Downloading paddlepaddle-2.6.2-cp310-cp310-manylinux1_x86_64.whl (126.0 MB)\n",
            "\u001b[2K   \u001b[90m━━━━━━━━━━━━━━━━━━━━━━━━━━━━━━━━━━━━━━━━\u001b[0m \u001b[32m126.0/126.0 MB\u001b[0m \u001b[31m8.8 MB/s\u001b[0m eta \u001b[36m0:00:00\u001b[0m\n",
            "\u001b[?25hDownloading opt_einsum-3.3.0-py3-none-any.whl (65 kB)\n",
            "\u001b[2K   \u001b[90m━━━━━━━━━━━━━━━━━━━━━━━━━━━━━━━━━━━━━━━━\u001b[0m \u001b[32m65.5/65.5 kB\u001b[0m \u001b[31m2.6 MB/s\u001b[0m eta \u001b[36m0:00:00\u001b[0m\n",
            "\u001b[?25hDownloading astor-0.8.1-py2.py3-none-any.whl (27 kB)\n",
            "Installing collected packages: opt-einsum, astor, paddlepaddle\n",
            "  Attempting uninstall: opt-einsum\n",
            "    Found existing installation: opt_einsum 3.4.0\n",
            "    Uninstalling opt_einsum-3.4.0:\n",
            "      Successfully uninstalled opt_einsum-3.4.0\n",
            "Successfully installed astor-0.8.1 opt-einsum-3.3.0 paddlepaddle-2.6.2\n"
          ]
        }
      ],
      "source": [
        "!python -m pip install paddlepaddle"
      ]
    },
    {
      "cell_type": "code",
      "source": [
        "!pip install paddleocr"
      ],
      "metadata": {
        "id": "8VMpzrfTdZvF",
        "colab": {
          "base_uri": "https://localhost:8080/"
        },
        "outputId": "f2d69b0b-53f8-415d-9b66-a0c252f455cb"
      },
      "execution_count": null,
      "outputs": [
        {
          "output_type": "stream",
          "name": "stdout",
          "text": [
            "Collecting paddleocr\n",
            "  Downloading paddleocr-2.9.1-py3-none-any.whl.metadata (8.5 kB)\n",
            "Requirement already satisfied: shapely in /usr/local/lib/python3.10/dist-packages (from paddleocr) (2.0.6)\n",
            "Requirement already satisfied: scikit-image in /usr/local/lib/python3.10/dist-packages (from paddleocr) (0.24.0)\n",
            "Requirement already satisfied: imgaug in /usr/local/lib/python3.10/dist-packages (from paddleocr) (0.4.0)\n",
            "Collecting pyclipper (from paddleocr)\n",
            "  Downloading pyclipper-1.3.0.post6-cp310-cp310-manylinux_2_12_x86_64.manylinux2010_x86_64.whl.metadata (9.0 kB)\n",
            "Collecting lmdb (from paddleocr)\n",
            "  Downloading lmdb-1.5.1-cp310-cp310-manylinux_2_17_x86_64.manylinux2014_x86_64.whl.metadata (1.1 kB)\n",
            "Requirement already satisfied: tqdm in /usr/local/lib/python3.10/dist-packages (from paddleocr) (4.66.6)\n",
            "Requirement already satisfied: numpy<2.0 in /usr/local/lib/python3.10/dist-packages (from paddleocr) (1.26.4)\n",
            "Collecting rapidfuzz (from paddleocr)\n",
            "  Downloading rapidfuzz-3.10.1-cp310-cp310-manylinux_2_17_x86_64.manylinux2014_x86_64.whl.metadata (11 kB)\n",
            "Requirement already satisfied: opencv-python in /usr/local/lib/python3.10/dist-packages (from paddleocr) (4.10.0.84)\n",
            "Requirement already satisfied: opencv-contrib-python in /usr/local/lib/python3.10/dist-packages (from paddleocr) (4.10.0.84)\n",
            "Requirement already satisfied: cython in /usr/local/lib/python3.10/dist-packages (from paddleocr) (3.0.11)\n",
            "Requirement already satisfied: Pillow in /usr/local/lib/python3.10/dist-packages (from paddleocr) (11.0.0)\n",
            "Requirement already satisfied: pyyaml in /usr/local/lib/python3.10/dist-packages (from paddleocr) (6.0.2)\n",
            "Collecting python-docx (from paddleocr)\n",
            "  Downloading python_docx-1.1.2-py3-none-any.whl.metadata (2.0 kB)\n",
            "Requirement already satisfied: beautifulsoup4 in /usr/local/lib/python3.10/dist-packages (from paddleocr) (4.12.3)\n",
            "Requirement already satisfied: fonttools>=4.24.0 in /usr/local/lib/python3.10/dist-packages (from paddleocr) (4.54.1)\n",
            "Collecting fire>=0.3.0 (from paddleocr)\n",
            "  Downloading fire-0.7.0.tar.gz (87 kB)\n",
            "\u001b[2K     \u001b[90m━━━━━━━━━━━━━━━━━━━━━━━━━━━━━━━━━━━━━━━━\u001b[0m \u001b[32m87.2/87.2 kB\u001b[0m \u001b[31m1.6 MB/s\u001b[0m eta \u001b[36m0:00:00\u001b[0m\n",
            "\u001b[?25h  Preparing metadata (setup.py) ... \u001b[?25l\u001b[?25hdone\n",
            "Requirement already satisfied: requests in /usr/local/lib/python3.10/dist-packages (from paddleocr) (2.32.3)\n",
            "Collecting albumentations==1.4.10 (from paddleocr)\n",
            "  Downloading albumentations-1.4.10-py3-none-any.whl.metadata (38 kB)\n",
            "Collecting albucore==0.0.13 (from paddleocr)\n",
            "  Downloading albucore-0.0.13-py3-none-any.whl.metadata (3.1 kB)\n",
            "Requirement already satisfied: tomli>=2.0.1 in /usr/local/lib/python3.10/dist-packages (from albucore==0.0.13->paddleocr) (2.1.0)\n",
            "Requirement already satisfied: typing-extensions>=4.9.0 in /usr/local/lib/python3.10/dist-packages (from albucore==0.0.13->paddleocr) (4.12.2)\n",
            "Requirement already satisfied: opencv-python-headless>=4.9.0.80 in /usr/local/lib/python3.10/dist-packages (from albucore==0.0.13->paddleocr) (4.10.0.84)\n",
            "Requirement already satisfied: scipy>=1.10.0 in /usr/local/lib/python3.10/dist-packages (from albumentations==1.4.10->paddleocr) (1.13.1)\n",
            "Requirement already satisfied: scikit-learn>=1.3.2 in /usr/local/lib/python3.10/dist-packages (from albumentations==1.4.10->paddleocr) (1.5.2)\n",
            "Requirement already satisfied: pydantic>=2.7.0 in /usr/local/lib/python3.10/dist-packages (from albumentations==1.4.10->paddleocr) (2.9.2)\n",
            "Requirement already satisfied: termcolor in /usr/local/lib/python3.10/dist-packages (from fire>=0.3.0->paddleocr) (2.5.0)\n",
            "Requirement already satisfied: networkx>=2.8 in /usr/local/lib/python3.10/dist-packages (from scikit-image->paddleocr) (3.4.2)\n",
            "Requirement already satisfied: imageio>=2.33 in /usr/local/lib/python3.10/dist-packages (from scikit-image->paddleocr) (2.36.0)\n",
            "Requirement already satisfied: tifffile>=2022.8.12 in /usr/local/lib/python3.10/dist-packages (from scikit-image->paddleocr) (2024.9.20)\n",
            "Requirement already satisfied: packaging>=21 in /usr/local/lib/python3.10/dist-packages (from scikit-image->paddleocr) (24.2)\n",
            "Requirement already satisfied: lazy-loader>=0.4 in /usr/local/lib/python3.10/dist-packages (from scikit-image->paddleocr) (0.4)\n",
            "Requirement already satisfied: soupsieve>1.2 in /usr/local/lib/python3.10/dist-packages (from beautifulsoup4->paddleocr) (2.6)\n",
            "Requirement already satisfied: six in /usr/local/lib/python3.10/dist-packages (from imgaug->paddleocr) (1.16.0)\n",
            "Requirement already satisfied: matplotlib in /usr/local/lib/python3.10/dist-packages (from imgaug->paddleocr) (3.8.0)\n",
            "Requirement already satisfied: lxml>=3.1.0 in /usr/local/lib/python3.10/dist-packages (from python-docx->paddleocr) (5.3.0)\n",
            "Requirement already satisfied: charset-normalizer<4,>=2 in /usr/local/lib/python3.10/dist-packages (from requests->paddleocr) (3.4.0)\n",
            "Requirement already satisfied: idna<4,>=2.5 in /usr/local/lib/python3.10/dist-packages (from requests->paddleocr) (3.10)\n",
            "Requirement already satisfied: urllib3<3,>=1.21.1 in /usr/local/lib/python3.10/dist-packages (from requests->paddleocr) (2.2.3)\n",
            "Requirement already satisfied: certifi>=2017.4.17 in /usr/local/lib/python3.10/dist-packages (from requests->paddleocr) (2024.8.30)\n",
            "Requirement already satisfied: annotated-types>=0.6.0 in /usr/local/lib/python3.10/dist-packages (from pydantic>=2.7.0->albumentations==1.4.10->paddleocr) (0.7.0)\n",
            "Requirement already satisfied: pydantic-core==2.23.4 in /usr/local/lib/python3.10/dist-packages (from pydantic>=2.7.0->albumentations==1.4.10->paddleocr) (2.23.4)\n",
            "Requirement already satisfied: joblib>=1.2.0 in /usr/local/lib/python3.10/dist-packages (from scikit-learn>=1.3.2->albumentations==1.4.10->paddleocr) (1.4.2)\n",
            "Requirement already satisfied: threadpoolctl>=3.1.0 in /usr/local/lib/python3.10/dist-packages (from scikit-learn>=1.3.2->albumentations==1.4.10->paddleocr) (3.5.0)\n",
            "Requirement already satisfied: contourpy>=1.0.1 in /usr/local/lib/python3.10/dist-packages (from matplotlib->imgaug->paddleocr) (1.3.1)\n",
            "Requirement already satisfied: cycler>=0.10 in /usr/local/lib/python3.10/dist-packages (from matplotlib->imgaug->paddleocr) (0.12.1)\n",
            "Requirement already satisfied: kiwisolver>=1.0.1 in /usr/local/lib/python3.10/dist-packages (from matplotlib->imgaug->paddleocr) (1.4.7)\n",
            "Requirement already satisfied: pyparsing>=2.3.1 in /usr/local/lib/python3.10/dist-packages (from matplotlib->imgaug->paddleocr) (3.2.0)\n",
            "Requirement already satisfied: python-dateutil>=2.7 in /usr/local/lib/python3.10/dist-packages (from matplotlib->imgaug->paddleocr) (2.8.2)\n",
            "Downloading paddleocr-2.9.1-py3-none-any.whl (544 kB)\n",
            "\u001b[2K   \u001b[90m━━━━━━━━━━━━━━━━━━━━━━━━━━━━━━━━━━━━━━━━\u001b[0m \u001b[32m544.7/544.7 kB\u001b[0m \u001b[31m7.8 MB/s\u001b[0m eta \u001b[36m0:00:00\u001b[0m\n",
            "\u001b[?25hDownloading albucore-0.0.13-py3-none-any.whl (8.5 kB)\n",
            "Downloading albumentations-1.4.10-py3-none-any.whl (161 kB)\n",
            "\u001b[2K   \u001b[90m━━━━━━━━━━━━━━━━━━━━━━━━━━━━━━━━━━━━━━━━\u001b[0m \u001b[32m161.9/161.9 kB\u001b[0m \u001b[31m8.7 MB/s\u001b[0m eta \u001b[36m0:00:00\u001b[0m\n",
            "\u001b[?25hDownloading lmdb-1.5.1-cp310-cp310-manylinux_2_17_x86_64.manylinux2014_x86_64.whl (294 kB)\n",
            "\u001b[2K   \u001b[90m━━━━━━━━━━━━━━━━━━━━━━━━━━━━━━━━━━━━━━━━\u001b[0m \u001b[32m294.9/294.9 kB\u001b[0m \u001b[31m13.5 MB/s\u001b[0m eta \u001b[36m0:00:00\u001b[0m\n",
            "\u001b[?25hDownloading pyclipper-1.3.0.post6-cp310-cp310-manylinux_2_12_x86_64.manylinux2010_x86_64.whl (912 kB)\n",
            "\u001b[2K   \u001b[90m━━━━━━━━━━━━━━━━━━━━━━━━━━━━━━━━━━━━━━━━\u001b[0m \u001b[32m912.2/912.2 kB\u001b[0m \u001b[31m26.6 MB/s\u001b[0m eta \u001b[36m0:00:00\u001b[0m\n",
            "\u001b[?25hDownloading python_docx-1.1.2-py3-none-any.whl (244 kB)\n",
            "\u001b[2K   \u001b[90m━━━━━━━━━━━━━━━━━━━━━━━━━━━━━━━━━━━━━━━━\u001b[0m \u001b[32m244.3/244.3 kB\u001b[0m \u001b[31m11.5 MB/s\u001b[0m eta \u001b[36m0:00:00\u001b[0m\n",
            "\u001b[?25hDownloading rapidfuzz-3.10.1-cp310-cp310-manylinux_2_17_x86_64.manylinux2014_x86_64.whl (3.1 MB)\n",
            "\u001b[2K   \u001b[90m━━━━━━━━━━━━━━━━━━━━━━━━━━━━━━━━━━━━━━━━\u001b[0m \u001b[32m3.1/3.1 MB\u001b[0m \u001b[31m17.4 MB/s\u001b[0m eta \u001b[36m0:00:00\u001b[0m\n",
            "\u001b[?25hBuilding wheels for collected packages: fire\n",
            "  Building wheel for fire (setup.py) ... \u001b[?25l\u001b[?25hdone\n",
            "  Created wheel for fire: filename=fire-0.7.0-py3-none-any.whl size=114249 sha256=0f0e1e8a00479fa12f7d8ae9c54238d7aca3bb573ea801ffa7a109282c727acd\n",
            "  Stored in directory: /root/.cache/pip/wheels/19/39/2f/2d3cadc408a8804103f1c34ddd4b9f6a93497b11fa96fe738e\n",
            "Successfully built fire\n",
            "Installing collected packages: pyclipper, lmdb, rapidfuzz, python-docx, fire, albucore, albumentations, paddleocr\n",
            "  Attempting uninstall: albucore\n",
            "    Found existing installation: albucore 0.0.19\n",
            "    Uninstalling albucore-0.0.19:\n",
            "      Successfully uninstalled albucore-0.0.19\n",
            "  Attempting uninstall: albumentations\n",
            "    Found existing installation: albumentations 1.4.20\n",
            "    Uninstalling albumentations-1.4.20:\n",
            "      Successfully uninstalled albumentations-1.4.20\n",
            "Successfully installed albucore-0.0.13 albumentations-1.4.10 fire-0.7.0 lmdb-1.5.1 paddleocr-2.9.1 pyclipper-1.3.0.post6 python-docx-1.1.2 rapidfuzz-3.10.1\n"
          ]
        }
      ]
    },
    {
      "cell_type": "code",
      "source": [
        "from paddleocr import PaddleOCR, draw_ocr\n",
        "from matplotlib import pyplot as plt # for images\n",
        "from google.colab.patches import cv2_imshow #Specific to Google Colab, it allows displaying images in the Colab notebook.\n",
        "import cv2\n",
        "import os # for folder directory navigation\n",
        "import numpy as np\n",
        "import traceback\n",
        "import json\n",
        "import csv"
      ],
      "metadata": {
        "id": "JA7GwTOLeXar"
      },
      "execution_count": null,
      "outputs": []
    },
    {
      "cell_type": "code",
      "source": [
        "# use_angle_cls=True:\n",
        "# This parameter enables the angle classification feature of the OCR model.\n",
        "# It allows the model to detect and correct text that is not horizontally aligned (e.g., rotated or skewed text)\n",
        "ocr_model = PaddleOCR(use_angle_cls=True, lang='en')\n"
      ],
      "metadata": {
        "colab": {
          "base_uri": "https://localhost:8080/"
        },
        "id": "L6YxPaoedvFS",
        "outputId": "6c19f46a-efe4-47d7-f02c-a80339d9c7fd"
      },
      "execution_count": null,
      "outputs": [
        {
          "output_type": "stream",
          "name": "stdout",
          "text": [
            "download https://paddleocr.bj.bcebos.com/PP-OCRv3/english/en_PP-OCRv3_det_infer.tar to /root/.paddleocr/whl/det/en/en_PP-OCRv3_det_infer/en_PP-OCRv3_det_infer.tar\n"
          ]
        },
        {
          "output_type": "stream",
          "name": "stderr",
          "text": [
            "100%|██████████| 3910/3910 [00:16<00:00, 232.69it/s] \n"
          ]
        },
        {
          "output_type": "stream",
          "name": "stdout",
          "text": [
            "download https://paddleocr.bj.bcebos.com/PP-OCRv4/english/en_PP-OCRv4_rec_infer.tar to /root/.paddleocr/whl/rec/en/en_PP-OCRv4_rec_infer/en_PP-OCRv4_rec_infer.tar\n"
          ]
        },
        {
          "output_type": "stream",
          "name": "stderr",
          "text": [
            "100%|██████████| 10000/10000 [00:19<00:00, 513.88it/s]\n"
          ]
        },
        {
          "output_type": "stream",
          "name": "stdout",
          "text": [
            "download https://paddleocr.bj.bcebos.com/dygraph_v2.0/ch/ch_ppocr_mobile_v2.0_cls_infer.tar to /root/.paddleocr/whl/cls/ch_ppocr_mobile_v2.0_cls_infer/ch_ppocr_mobile_v2.0_cls_infer.tar\n"
          ]
        },
        {
          "output_type": "stream",
          "name": "stderr",
          "text": [
            "100%|██████████| 2138/2138 [00:03<00:00, 650.56it/s]"
          ]
        },
        {
          "output_type": "stream",
          "name": "stdout",
          "text": [
            "[2024/11/20 06:44:52] ppocr DEBUG: Namespace(help='==SUPPRESS==', use_gpu=False, use_xpu=False, use_npu=False, use_mlu=False, ir_optim=True, use_tensorrt=False, min_subgraph_size=15, precision='fp32', gpu_mem=500, gpu_id=0, image_dir=None, page_num=0, det_algorithm='DB', det_model_dir='/root/.paddleocr/whl/det/en/en_PP-OCRv3_det_infer', det_limit_side_len=960, det_limit_type='max', det_box_type='quad', det_db_thresh=0.3, det_db_box_thresh=0.6, det_db_unclip_ratio=1.5, max_batch_size=10, use_dilation=False, det_db_score_mode='fast', det_east_score_thresh=0.8, det_east_cover_thresh=0.1, det_east_nms_thresh=0.2, det_sast_score_thresh=0.5, det_sast_nms_thresh=0.2, det_pse_thresh=0, det_pse_box_thresh=0.85, det_pse_min_area=16, det_pse_scale=1, scales=[8, 16, 32], alpha=1.0, beta=1.0, fourier_degree=5, rec_algorithm='SVTR_LCNet', rec_model_dir='/root/.paddleocr/whl/rec/en/en_PP-OCRv4_rec_infer', rec_image_inverse=True, rec_image_shape='3, 48, 320', rec_batch_num=6, max_text_length=25, rec_char_dict_path='/usr/local/lib/python3.10/dist-packages/paddleocr/ppocr/utils/en_dict.txt', use_space_char=True, vis_font_path='./doc/fonts/simfang.ttf', drop_score=0.5, e2e_algorithm='PGNet', e2e_model_dir=None, e2e_limit_side_len=768, e2e_limit_type='max', e2e_pgnet_score_thresh=0.5, e2e_char_dict_path='./ppocr/utils/ic15_dict.txt', e2e_pgnet_valid_set='totaltext', e2e_pgnet_mode='fast', use_angle_cls=True, cls_model_dir='/root/.paddleocr/whl/cls/ch_ppocr_mobile_v2.0_cls_infer', cls_image_shape='3, 48, 192', label_list=['0', '180'], cls_batch_num=6, cls_thresh=0.9, enable_mkldnn=False, cpu_threads=10, use_pdserving=False, warmup=False, sr_model_dir=None, sr_image_shape='3, 32, 128', sr_batch_num=1, draw_img_save_dir='./inference_results', save_crop_res=False, crop_res_save_dir='./output', use_mp=False, total_process_num=1, process_id=0, benchmark=False, save_log_path='./log_output/', show_log=True, use_onnx=False, return_word_box=False, output='./output', table_max_len=488, table_algorithm='TableAttn', table_model_dir=None, merge_no_span_structure=True, table_char_dict_path=None, formula_algorithm='LaTeXOCR', formula_model_dir=None, formula_char_dict_path=None, formula_batch_num=1, layout_model_dir=None, layout_dict_path=None, layout_score_threshold=0.5, layout_nms_threshold=0.5, kie_algorithm='LayoutXLM', ser_model_dir=None, re_model_dir=None, use_visual_backbone=True, ser_dict_path='../train_data/XFUND/class_list_xfun.txt', ocr_order_method=None, mode='structure', image_orientation=False, layout=True, table=True, formula=False, ocr=True, recovery=False, recovery_to_markdown=False, use_pdf2docx_api=False, invert=False, binarize=False, alphacolor=(255, 255, 255), lang='en', det=True, rec=True, type='ocr', savefile=False, ocr_version='PP-OCRv4', structure_version='PP-StructureV2')\n"
          ]
        },
        {
          "output_type": "stream",
          "name": "stderr",
          "text": [
            "\n"
          ]
        }
      ]
    },
    {
      "cell_type": "code",
      "source": [
        "img_path = 'doc.png'\n",
        "img_path"
      ],
      "metadata": {
        "colab": {
          "base_uri": "https://localhost:8080/",
          "height": 35
        },
        "id": "28J9x1PAe5EJ",
        "outputId": "981f4282-429c-4086-bef2-25b06a054aa0"
      },
      "execution_count": null,
      "outputs": [
        {
          "output_type": "execute_result",
          "data": {
            "text/plain": [
              "'doc.png'"
            ],
            "application/vnd.google.colaboratory.intrinsic+json": {
              "type": "string"
            }
          },
          "metadata": {},
          "execution_count": 5
        }
      ]
    },
    {
      "cell_type": "code",
      "source": [
        "img = cv2.imread(img_path ,cv2.IMREAD_UNCHANGED)\n",
        "cv2_imshow(img)"
      ],
      "metadata": {
        "colab": {
          "base_uri": "https://localhost:8080/",
          "height": 705
        },
        "id": "dipNgO8a4AXo",
        "outputId": "2362a796-e0ac-47ee-dce7-5397a0a0139f"
      },
      "execution_count": null,
      "outputs": [
        {
          "output_type": "display_data",
          "data": {
            "text/plain": [
              "<PIL.Image.Image image mode=RGB size=478x688>"
            ],
            "image/png": "[encoded data removed]",
            "image/jpeg": "[encoded data removed]"
          },
          "metadata": {}
        }
      ]
    },
    {
      "cell_type": "code",
      "source": [
        "from pprint import pprint # each iteration on next line instead of single line\n",
        "# detect the image\n",
        "# %timeit A magic command in IPython or Jupyter Notebook that measures the average execution time of a line or block of code.\n",
        "# It runs the specified code multiple times and provides the mean runtime, which is helpful for performance testing.\n",
        "result = ocr_model.ocr(img_path , cls=True)"
      ],
      "metadata": {
        "colab": {
          "base_uri": "https://localhost:8080/"
        },
        "id": "a_XVvrNA8kes",
        "outputId": "111037b7-3636-45ed-ede5-96d75305fe3e"
      },
      "execution_count": null,
      "outputs": [
        {
          "output_type": "stream",
          "name": "stdout",
          "text": [
            "[2024/11/20 06:44:54] ppocr DEBUG: dt_boxes num : 54, elapsed : 0.3147561550140381\n",
            "[2024/11/20 06:44:54] ppocr DEBUG: cls num  : 54, elapsed : 0.17296075820922852\n",
            "[2024/11/20 06:44:58] ppocr DEBUG: rec_res num  : 54, elapsed : 3.1431546211242676\n"
          ]
        }
      ]
    },
    {
      "cell_type": "code",
      "source": [
        "!git clone https://github.com/PaddlePaddle/PaddleOCR"
      ],
      "metadata": {
        "colab": {
          "base_uri": "https://localhost:8080/"
        },
        "id": "JRl8xXK2IbxS",
        "outputId": "5e87856f-f32d-42de-832c-011e540f4c32"
      },
      "execution_count": null,
      "outputs": [
        {
          "output_type": "stream",
          "name": "stdout",
          "text": [
            "Cloning into 'PaddleOCR'...\n",
            "remote: Enumerating objects: 71829, done.\u001b[K\n",
            "remote: Counting objects: 100% (20898/20898), done.\u001b[K\n",
            "remote: Compressing objects: 100% (4240/4240), done.\u001b[K\n",
            "remote: Total 71829 (delta 17189), reused 20147 (delta 16656), pack-reused 50931 (from 1)\u001b[K\n",
            "Receiving objects: 100% (71829/71829), 485.34 MiB | 27.46 MiB/s, done.\n",
            "Resolving deltas: 100% (53033/53033), done.\n",
            "Updating files: 100% (1994/1994), done.\n"
          ]
        }
      ]
    },
    {
      "cell_type": "code",
      "source": [
        "font = 'PaddleOCR/doc/fonts/latin.ttf'"
      ],
      "metadata": {
        "id": "ocHUatnB2_BC"
      },
      "execution_count": null,
      "outputs": []
    },
    {
      "cell_type": "code",
      "source": [
        "for i in result:\n",
        "  pprint(i)"
      ],
      "metadata": {
        "colab": {
          "base_uri": "https://localhost:8080/"
        },
        "id": "GI75TPFyProO",
        "outputId": "1bb6002f-c04f-4a1e-8ffe-946a86e5acca"
      },
      "execution_count": null,
      "outputs": [
        {
          "output_type": "stream",
          "name": "stdout",
          "text": [
            "[[[[369.0, 58.0], [430.0, 61.0], [430.0, 78.0], [368.0, 76.0]],\n",
            "  ('Invoice', 0.9984985589981079)],\n",
            " [[[346.0, 94.0], [431.0, 94.0], [431.0, 107.0], [346.0, 107.0]],\n",
            "  ('[Your Business Name]', 0.9995578527450562)],\n",
            " [[[357.0, 106.0], [430.0, 108.0], [430.0, 118.0], [356.0, 117.0]],\n",
            "  ('[Your Tax Number]', 0.9945240020751953)],\n",
            " [[[346.0, 118.0], [431.0, 118.0], [431.0, 131.0], [346.0, 131.0]],\n",
            "  ('[Your Phone Number]', 0.9995384216308594)],\n",
            " [[[380.0, 128.0], [431.0, 130.0], [431.0, 144.0], [379.0, 142.0]],\n",
            "  ('[Your Email]', 0.9974491596221924)],\n",
            " [[[373.0, 145.0], [430.0, 145.0], [430.0, 155.0], [373.0, 155.0]],\n",
            "  ('[Your Address]', 0.9995683431625366)],\n",
            " [[[57.0, 193.0], [89.0, 193.0], [89.0, 203.0], [57.0, 203.0]],\n",
            "  ('BILL TO', 0.998543918132782)],\n",
            " [[[293.0, 191.0], [332.0, 194.0], [331.0, 204.0], [293.0, 202.0]],\n",
            "  ('Invoice #', 0.9230979084968567)],\n",
            " [[[363.0, 194.0], [429.0, 194.0], [429.0, 203.0], [363.0, 203.0]],\n",
            "  ('[Invoice number]', 0.9705584049224854)],\n",
            " [[[58.0, 206.0], [119.0, 206.0], [119.0, 217.0], [58.0, 217.0]],\n",
            "  ('[Clients Name]', 0.9993501901626587)],\n",
            " [[[294.0, 204.0], [317.0, 207.0], [316.0, 218.0], [292.0, 216.0]],\n",
            "  ('Date', 0.99320387840271)],\n",
            " [[[355.0, 206.0], [431.0, 206.0], [431.0, 218.0], [355.0, 218.0]],\n",
            "  ('[Invoice issue date]', 0.9892832040786743)],\n",
            " [[[58.0, 220.0], [155.0, 220.0], [155.0, 230.0], [58.0, 230.0]],\n",
            "  ('[Clients Company Name]', 0.9981455206871033)],\n",
            " [[[294.0, 219.0], [332.0, 219.0], [332.0, 230.0], [294.0, 230.0]],\n",
            "  ('Due date', 0.960448682308197)],\n",
            " [[[354.0, 220.0], [430.0, 220.0], [430.0, 230.0], [354.0, 230.0]],\n",
            "  ('[Payment due date]', 0.9994328022003174)],\n",
            " [[[59.0, 232.0], [123.0, 232.0], [123.0, 242.0], [59.0, 242.0]],\n",
            "  ('[Clients Tax No.]', 0.9973785281181335)],\n",
            " [[[59.0, 243.0], [135.0, 243.0], [135.0, 255.0], [59.0, 255.0]],\n",
            "  ('[Clients Phone No.]', 0.9774585366249084)],\n",
            " [[[59.0, 254.0], [116.0, 254.0], [116.0, 265.0], [59.0, 265.0]],\n",
            "  ('[Clients Email]', 0.9877496957778931)],\n",
            " [[[58.0, 269.0], [125.0, 269.0], [125.0, 280.0], [58.0, 280.0]],\n",
            "  (\"[Client's Address]\", 0.9729830622673035)],\n",
            " [[[52.0, 304.0], [108.0, 305.0], [107.0, 316.0], [52.0, 315.0]],\n",
            "  ('Item/Service', 0.9829986095428467)],\n",
            " [[[54.0, 315.0], [84.0, 318.0], [83.0, 330.0], [53.0, 327.0]],\n",
            "  ('Item 1', 0.8851079940795898)],\n",
            " [[[300.0, 306.0], [338.0, 306.0], [338.0, 316.0], [300.0, 316.0]],\n",
            "  ('Quantity', 0.9455093741416931)],\n",
            " [[[362.0, 307.0], [383.0, 307.0], [383.0, 315.0], [362.0, 315.0]],\n",
            "  ('Price', 0.9992443323135376)],\n",
            " [[[387.0, 314.0], [409.0, 317.0], [407.0, 329.0], [386.0, 326.0]],\n",
            "  ('0.00', 0.9943862557411194)],\n",
            " [[[396.0, 306.0], [432.0, 306.0], [432.0, 316.0], [396.0, 316.0]],\n",
            "  ('Amount', 0.9989259243011475)],\n",
            " [[[339.0, 317.0], [360.0, 317.0], [360.0, 327.0], [339.0, 327.0]],\n",
            "  ('0.00', 0.984443724155426)],\n",
            " [[[55.0, 329.0], [84.0, 329.0], [84.0, 340.0], [55.0, 340.0]],\n",
            "  ('Item 2', 0.9959659576416016)],\n",
            " [[[338.0, 327.0], [362.0, 330.0], [361.0, 341.0], [336.0, 339.0]],\n",
            "  ('0.00', 0.9827333688735962)],\n",
            " [[[386.0, 328.0], [408.0, 328.0], [408.0, 340.0], [386.0, 340.0]],\n",
            "  ('0.00', 0.8986669778823853)],\n",
            " [[[54.0, 342.0], [85.0, 342.0], [85.0, 353.0], [54.0, 353.0]],\n",
            "  ('Item 3', 0.9951292872428894)],\n",
            " [[[338.0, 342.0], [361.0, 342.0], [361.0, 353.0], [338.0, 353.0]],\n",
            "  ('0.00', 0.9943010210990906)],\n",
            " [[[385.0, 342.0], [408.0, 342.0], [408.0, 353.0], [385.0, 353.0]],\n",
            "  ('0.00', 0.9780598282814026)],\n",
            " [[[55.0, 355.0], [85.0, 355.0], [85.0, 366.0], [55.0, 366.0]],\n",
            "  ('Item 4', 0.9856328964233398)],\n",
            " [[[337.0, 352.0], [362.0, 355.0], [361.0, 366.0], [336.0, 363.0]],\n",
            "  ('0.00', 0.9859128594398499)],\n",
            " [[[385.0, 354.0], [407.0, 354.0], [407.0, 366.0], [385.0, 366.0]],\n",
            "  ('0.00', 0.8848520517349243)],\n",
            " [[[54.0, 365.0], [84.0, 368.0], [83.0, 380.0], [53.0, 378.0]],\n",
            "  ('Item 5', 0.9744715690612793)],\n",
            " [[[338.0, 366.0], [361.0, 366.0], [361.0, 378.0], [338.0, 378.0]],\n",
            "  ('0.00', 0.9964079856872559)],\n",
            " [[[386.0, 366.0], [408.0, 366.0], [408.0, 378.0], [386.0, 378.0]],\n",
            "  ('0.00', 0.9952349066734314)],\n",
            " [[[55.0, 379.0], [85.0, 379.0], [85.0, 390.0], [55.0, 390.0]],\n",
            "  ('Item 6', 0.9911554455757141)],\n",
            " [[[339.0, 379.0], [361.0, 379.0], [361.0, 390.0], [339.0, 390.0]],\n",
            "  ('0.00', 0.9943331480026245)],\n",
            " [[[386.0, 379.0], [407.0, 379.0], [407.0, 390.0], [386.0, 390.0]],\n",
            "  ('0.00', 0.9939773082733154)],\n",
            " [[[55.0, 392.0], [84.0, 392.0], [84.0, 403.0], [55.0, 403.0]],\n",
            "  ('Item 7', 0.995704710483551)],\n",
            " [[[338.0, 392.0], [360.0, 392.0], [360.0, 403.0], [338.0, 403.0]],\n",
            "  ('0.00', 0.993599534034729)],\n",
            " [[[385.0, 392.0], [407.0, 392.0], [407.0, 403.0], [385.0, 403.0]],\n",
            "  ('0.00', 0.9715045094490051)],\n",
            " [[[58.0, 417.0], [220.0, 417.0], [220.0, 427.0], [58.0, 427.0]],\n",
            "  ('Payment Instruction/Terms and Conditions', 0.999076247215271)],\n",
            " [[[348.0, 416.0], [386.0, 416.0], [386.0, 426.0], [348.0, 426.0]],\n",
            "  ('Subtotal', 0.996856689453125)],\n",
            " [[[383.0, 416.0], [407.0, 416.0], [407.0, 427.0], [383.0, 427.0]],\n",
            "  ('0.00', 0.9733810424804688)],\n",
            " [[[347.0, 441.0], [385.0, 441.0], [385.0, 452.0], [347.0, 452.0]],\n",
            "  ('Discount', 0.9998143911361694)],\n",
            " [[[383.0, 441.0], [408.0, 441.0], [408.0, 452.0], [383.0, 452.0]],\n",
            "  ('0.00', 0.9750791192054749)],\n",
            " [[[298.0, 466.0], [407.0, 466.0], [407.0, 476.0], [298.0, 476.0]],\n",
            "  ('Subtotal less discount0.00', 0.970739483833313)],\n",
            " [[[348.0, 490.0], [407.0, 490.0], [407.0, 500.0], [348.0, 500.0]],\n",
            "  ('Tax Rate0.00', 0.9649664759635925)],\n",
            " [[[347.0, 515.0], [408.0, 515.0], [408.0, 526.0], [347.0, 526.0]],\n",
            "  ('Total tax0.00', 0.9574712514877319)],\n",
            " [[[311.0, 540.0], [407.0, 540.0], [407.0, 550.0], [311.0, 550.0]],\n",
            "  ('Shipping/Handling0.00', 0.9921213984489441)],\n",
            " [[[290.0, 566.0], [416.0, 566.0], [416.0, 580.0], [290.0, 580.0]],\n",
            "  ('AMOUNT DUE O.OO', 0.8697291016578674)]]\n"
          ]
        }
      ]
    },
    {
      "cell_type": "code",
      "source": [
        "boxes = [line[0] for line in result]\n",
        "boxes"
      ],
      "metadata": {
        "colab": {
          "base_uri": "https://localhost:8080/"
        },
        "id": "L1znbdusQsno",
        "outputId": "3cbdf3e0-664e-409b-d92c-5f8a2248c4bf"
      },
      "execution_count": null,
      "outputs": [
        {
          "output_type": "execute_result",
          "data": {
            "text/plain": [
              "[[[[369.0, 58.0], [430.0, 61.0], [430.0, 78.0], [368.0, 76.0]],\n",
              "  ('Invoice', 0.9984985589981079)]]"
            ]
          },
          "metadata": {},
          "execution_count": 11
        }
      ]
    },
    {
      "cell_type": "code",
      "source": [
        "scores = [line[1][1] for line in result]\n",
        "scores"
      ],
      "metadata": {
        "id": "rocFeYXpJ7zy",
        "colab": {
          "base_uri": "https://localhost:8080/"
        },
        "outputId": "dfa0e0b8-3c47-4ab2-eb64-9ed344a55064"
      },
      "execution_count": null,
      "outputs": [
        {
          "output_type": "execute_result",
          "data": {
            "text/plain": [
              "[('[Your Business Name]', 0.9995578527450562)]"
            ]
          },
          "metadata": {},
          "execution_count": 12
        }
      ]
    },
    {
      "cell_type": "code",
      "source": [
        "# boxes = [] What it does: Extracts the first element (res[0]) of each res from all the lines in result.\n",
        "boxes = [res[0] for line in result for res in line]\n",
        "#  texts = [] What it does: Extracts the first element of the second part (res[1][0]) of each res from all the lines in result.\n",
        "texts = [res[1][0] for line in result for res in line]\n",
        "#  scores = [] What it does: Extracts the second element of the second part (res[1][1]) of each res from all the lines in result.\n",
        "scores = [res[1][1] for line in result for res in line]"
      ],
      "metadata": {
        "id": "LLIZAbrR3J-3"
      },
      "execution_count": null,
      "outputs": []
    },
    {
      "cell_type": "code",
      "source": [
        "import numpy as np\n",
        "from PIL import Image\n",
        "\n",
        "# Print the extracted texts\n",
        "print(\"Extracted Texts:\")\n",
        "for text in texts:\n",
        "    print(text)\n",
        "\n",
        "# print(texts)\n",
        "\n",
        "# Load the image using PIL\n",
        "# for ensuring the image is in standard form\n",
        "image = Image.open(img_path).convert('RGB')\n",
        "\n",
        "fonts = 'PaddleOCR/doc/fonts/latin.ttf'\n",
        "# Draw OCR results (with red bounding boxes and annotations)\n",
        "im_show = draw_ocr(image, boxes, texts, scores, font_path=fonts)\n",
        "\n",
        "# Convert the array back to a PIL image and save\n",
        "im_show = Image.fromarray(im_show)\n",
        "im_show.save('result.jpg')\n",
        "print(\"Result saved as 'result.jpg'\")\n"
      ],
      "metadata": {
        "colab": {
          "base_uri": "https://localhost:8080/"
        },
        "id": "MQiX_topVLWG",
        "outputId": "78d0465a-9b1f-426d-f0da-0e326ba076bc"
      },
      "execution_count": null,
      "outputs": [
        {
          "output_type": "stream",
          "name": "stdout",
          "text": [
            "Extracted Texts:\n",
            "Invoice\n",
            "[Your Business Name]\n",
            "[Your Tax Number]\n",
            "[Your Phone Number]\n",
            "[Your Email]\n",
            "[Your Address]\n",
            "BILL TO\n",
            "Invoice #\n",
            "[Invoice number]\n",
            "[Clients Name]\n",
            "Date\n",
            "[Invoice issue date]\n",
            "[Clients Company Name]\n",
            "Due date\n",
            "[Payment due date]\n",
            "[Clients Tax No.]\n",
            "[Clients Phone No.]\n",
            "[Clients Email]\n",
            "[Client's Address]\n",
            "Item/Service\n",
            "Item 1\n",
            "Quantity\n",
            "Price\n",
            "0.00\n",
            "Amount\n",
            "0.00\n",
            "Item 2\n",
            "0.00\n",
            "0.00\n",
            "Item 3\n",
            "0.00\n",
            "0.00\n",
            "Item 4\n",
            "0.00\n",
            "0.00\n",
            "Item 5\n",
            "0.00\n",
            "0.00\n",
            "Item 6\n",
            "0.00\n",
            "0.00\n",
            "Item 7\n",
            "0.00\n",
            "0.00\n",
            "Payment Instruction/Terms and Conditions\n",
            "Subtotal\n",
            "0.00\n",
            "Discount\n",
            "0.00\n",
            "Subtotal less discount0.00\n",
            "Tax Rate0.00\n",
            "Total tax0.00\n",
            "Shipping/Handling0.00\n",
            "AMOUNT DUE O.OO\n",
            "Result saved as 'result.jpg'\n"
          ]
        }
      ]
    },
    {
      "cell_type": "code",
      "source": [
        "import re\n",
        "import json\n",
        "import csv\n",
        "\n",
        "def categorize_value(text):\n",
        "    \"\"\"\n",
        "    Categorizes the extracted text based on its content.\n",
        "    \"\"\"\n",
        "    # Predefined conditions for categorization\n",
        "    text_lower = text.lower()\n",
        "\n",
        "    if \"name\" in text_lower or \"bill to\" in text_lower:\n",
        "        return \"name\"\n",
        "    elif \"address\" in text_lower:\n",
        "        return \"address\"\n",
        "    elif \"invoice\" in text_lower:\n",
        "        return \"invoice\"\n",
        "    elif \"tax\" in text_lower or \"tax number\" in text_lower:\n",
        "        return \"tax\"\n",
        "    elif \"phone\" in text_lower or re.search(r'\\d{10}', text):\n",
        "        return \"phone\"\n",
        "    elif \"date\" in text_lower or re.search(r'\\b\\d{1,2}[-/]\\d{1,2}[-/]\\d{2,4}\\b', text):\n",
        "        return \"date\"\n",
        "    elif \"payment\" in text_lower:\n",
        "        if \"due date\" in text_lower:\n",
        "            return \"date\"\n",
        "        return \"payment\"\n",
        "    elif any(keyword in text_lower for keyword in [\"price\", \"amount\", \"subtotal\", \"discount\", \"tax rate\", \"amount due\"]):\n",
        "        return text_lower.split()[0]  # Assign the first word of the match as the category\n",
        "    elif \"item\" in text_lower:\n",
        "        return \"item\"\n",
        "    elif \"instruction\" in text_lower and \"payment\" in text_lower:\n",
        "        return \"payment instruction\"\n",
        "    elif any(keyword in text_lower for keyword in [\"quantity\", \"number\", \"email\"]):\n",
        "        return text  # Return the original value for these cases\n",
        "    else:\n",
        "        return \"unknown\"\n",
        "\n",
        "# Check if the file exists\n",
        "if not os.path.exists(img_path):\n",
        "    print(f\"The file {img_path} does not exist.\")\n",
        "else:\n",
        "    # Extract OCR details into key-value format with categorization\n",
        "    data = {} # empty dictionary\n",
        "    for line in result:\n",
        "        for res in line:\n",
        "            key = res[1][0]  # Extracted text\n",
        "            category = categorize_value(key)\n",
        "            data[key] = category\n",
        "\n",
        "    # Save categorized text as JSON\n",
        "    json_path = 'categorized_text.json'\n",
        "    with open(json_path, 'w', encoding='utf-8') as json_file:\n",
        "        json.dump(data, json_file, ensure_ascii=False, indent=4)\n",
        "\n",
        "    # Save categorized data to CSV\n",
        "    csv_path = 'categorized_text.csv'\n",
        "    with open(csv_path, 'w', newline='', encoding='utf-8') as csv_file:\n",
        "        writer = csv.writer(csv_file)\n",
        "        # Write the header\n",
        "        writer.writerow([\"Text (Key)\", \"Category (Value)\"])\n",
        "        # Write rows\n",
        "        for key, value in data.items():\n",
        "            writer.writerow([key, value])\n",
        "\n",
        "    # Confirm completion\n",
        "    print(f\"Categorized text saved as JSON: {json_path}\")\n",
        "    print(f\"Categorized text saved as CSV: {csv_path}\")\n"
      ],
      "metadata": {
        "colab": {
          "base_uri": "https://localhost:8080/"
        },
        "id": "L1eDSRtXFHHp",
        "outputId": "926a418d-ce51-43b2-bb8a-6c1de2360d69"
      },
      "execution_count": null,
      "outputs": [
        {
          "output_type": "stream",
          "name": "stdout",
          "text": [
            "Categorized text saved as JSON: categorized_text.json\n",
            "Categorized text saved as CSV: categorized_text.csv\n"
          ]
        }
      ]
    }
  ]
}